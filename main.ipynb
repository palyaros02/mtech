{
 "cells": [
  {
   "cell_type": "markdown",
   "metadata": {},
   "source": [
    "# Тестовое задание на позицию **Младший исследователь данных (DS) / стажер**"
   ]
  },
  {
   "cell_type": "markdown",
   "metadata": {},
   "source": [
    "#### Кандидат: Паламарчук Ярослав Владимирович"
   ]
  },
  {
   "cell_type": "markdown",
   "metadata": {},
   "source": [
    "## Задание"
   ]
  },
  {
   "cell_type": "markdown",
   "metadata": {},
   "source": [
    "Руководство компании обратило внимание на то, что сотрудники старше 35 \n",
    "лет болеют чаще, чем более молодые сотрудники. Кроме этого, среди мужчин \n",
    "количество пропусков рабочих дней в связи с больничным выше, чем среди женщин. \n",
    "В связи с этой ситуацией, руководство организации планирует ввести \n",
    "дополнительные медицинские осмотры среди групп риска. \n",
    "Вам необходимо проверить следующие гипотезы:\n",
    "1) Мужчины пропускают в течение года более 2 рабочих дней (work_days) по \n",
    "болезни значимо чаще женщин.\n",
    "2) Работники старше 35 лет (age) пропускают в течение года более 2 рабочих \n",
    "дней (work_days) по болезни значимо чаще своих более молодых коллег.\n",
    "Все необходимые данные содержатся в файле «М.Тех_Данные_к_ТЗ_DS»."
   ]
  },
  {
   "cell_type": "markdown",
   "metadata": {},
   "source": [
    "Решение необходимо предоставить:\n",
    "1) В виде jupyter notebook (с аккуратно оформленным кодом, графиками и описанной логикой решения).\n",
    "2) В виде дашборда на Streamlit с простым функционалом: \n",
    "   1. должна быть возможность загрузить .csv, в формате аналогично \n",
    "   файлу «Статистика»\n",
    "   2. должна быть возможность задать параметры age и work_days\n",
    "   3. указан результат проверки гипотез\n",
    "   4. указана логика получения результата (должны быть отрисованы \n",
    "графики распределений, указаны критерии проверки (стат. тесты, \n",
    "статистики, уровень значимости т.п.) \n",
    "\n",
    "\n",
    "Код проекта должен быть обернут в docker выложен в Gitlab/Github репозиторий\n",
    "предоставлена ссылка на него, сохраненная в файл формата .doc, .docx, .pdf, tss. Файл \n",
    "назови по следующему принципу: Фамилия_Имя_Название_вакансии. Будет \n",
    "обращаться внимание на качество кода, код стайл, оформление ноутбука, кода и \n",
    "репозитория. Будет плюсом, если дашборд будет поднят на сервере и на него будет \n",
    "предоставлена ссылка."
   ]
  },
  {
   "cell_type": "markdown",
   "metadata": {},
   "source": [
    "# Решение"
   ]
  },
  {
   "cell_type": "markdown",
   "metadata": {},
   "source": [
    "### Import libraries"
   ]
  },
  {
   "cell_type": "code",
   "execution_count": 8,
   "metadata": {},
   "outputs": [],
   "source": [
    "import pandas as pd\n",
    "import matplotlib.pyplot as plt\n",
    "from scipy.stats import ttest_ind"
   ]
  },
  {
   "cell_type": "markdown",
   "metadata": {},
   "source": [
    "## Load data"
   ]
  },
  {
   "cell_type": "code",
   "execution_count": 20,
   "metadata": {
    "dotnet_interactive": {
     "language": "csharp"
    },
    "polyglot_notebook": {
     "kernelName": "csharp"
    }
   },
   "outputs": [
    {
     "data": {
      "text/html": [
       "<div>\n",
       "<style scoped>\n",
       "    .dataframe tbody tr th:only-of-type {\n",
       "        vertical-align: middle;\n",
       "    }\n",
       "\n",
       "    .dataframe tbody tr th {\n",
       "        vertical-align: top;\n",
       "    }\n",
       "\n",
       "    .dataframe thead th {\n",
       "        text-align: right;\n",
       "    }\n",
       "</style>\n",
       "<table border=\"1\" class=\"dataframe\">\n",
       "  <thead>\n",
       "    <tr style=\"text-align: right;\">\n",
       "      <th></th>\n",
       "      <th>Количество больничных дней,\"Возраст\",\"Пол\"</th>\n",
       "    </tr>\n",
       "  </thead>\n",
       "  <tbody>\n",
       "    <tr>\n",
       "      <th>0</th>\n",
       "      <td>5,39,\"Ж\"</td>\n",
       "    </tr>\n",
       "    <tr>\n",
       "      <th>1</th>\n",
       "      <td>4,54,\"М\"</td>\n",
       "    </tr>\n",
       "    <tr>\n",
       "      <th>2</th>\n",
       "      <td>4,26,\"М\"</td>\n",
       "    </tr>\n",
       "    <tr>\n",
       "      <th>3</th>\n",
       "      <td>5,42,\"М\"</td>\n",
       "    </tr>\n",
       "    <tr>\n",
       "      <th>4</th>\n",
       "      <td>4,29,\"М\"</td>\n",
       "    </tr>\n",
       "  </tbody>\n",
       "</table>\n",
       "</div>"
      ],
      "text/plain": [
       "  Количество больничных дней,\"Возраст\",\"Пол\"\n",
       "0                                   5,39,\"Ж\"\n",
       "1                                   4,54,\"М\"\n",
       "2                                   4,26,\"М\"\n",
       "3                                   5,42,\"М\"\n",
       "4                                   4,29,\"М\""
      ]
     },
     "execution_count": 20,
     "metadata": {},
     "output_type": "execute_result"
    }
   ],
   "source": [
    "file_path = 'М.Тех_Данные_к_ТЗ_DS.csv'\n",
    "data = pd.read_csv(file_path, encoding='windows-1251')\n",
    "\n",
    "data.head()"
   ]
  },
  {
   "cell_type": "markdown",
   "metadata": {},
   "source": [
    "## Data preprocessing"
   ]
  },
  {
   "cell_type": "code",
   "execution_count": 21,
   "metadata": {},
   "outputs": [
    {
     "data": {
      "text/html": [
       "<div>\n",
       "<style scoped>\n",
       "    .dataframe tbody tr th:only-of-type {\n",
       "        vertical-align: middle;\n",
       "    }\n",
       "\n",
       "    .dataframe tbody tr th {\n",
       "        vertical-align: top;\n",
       "    }\n",
       "\n",
       "    .dataframe thead th {\n",
       "        text-align: right;\n",
       "    }\n",
       "</style>\n",
       "<table border=\"1\" class=\"dataframe\">\n",
       "  <thead>\n",
       "    <tr style=\"text-align: right;\">\n",
       "      <th></th>\n",
       "      <th>work_days</th>\n",
       "      <th>age</th>\n",
       "      <th>gender</th>\n",
       "    </tr>\n",
       "  </thead>\n",
       "  <tbody>\n",
       "    <tr>\n",
       "      <th>0</th>\n",
       "      <td>5</td>\n",
       "      <td>39</td>\n",
       "      <td>f</td>\n",
       "    </tr>\n",
       "    <tr>\n",
       "      <th>1</th>\n",
       "      <td>4</td>\n",
       "      <td>54</td>\n",
       "      <td>m</td>\n",
       "    </tr>\n",
       "    <tr>\n",
       "      <th>2</th>\n",
       "      <td>4</td>\n",
       "      <td>26</td>\n",
       "      <td>m</td>\n",
       "    </tr>\n",
       "    <tr>\n",
       "      <th>3</th>\n",
       "      <td>5</td>\n",
       "      <td>42</td>\n",
       "      <td>m</td>\n",
       "    </tr>\n",
       "    <tr>\n",
       "      <th>4</th>\n",
       "      <td>4</td>\n",
       "      <td>29</td>\n",
       "      <td>m</td>\n",
       "    </tr>\n",
       "  </tbody>\n",
       "</table>\n",
       "</div>"
      ],
      "text/plain": [
       "   work_days  age gender\n",
       "0          5   39      f\n",
       "1          4   54      m\n",
       "2          4   26      m\n",
       "3          5   42      m\n",
       "4          4   29      m"
      ]
     },
     "execution_count": 21,
     "metadata": {},
     "output_type": "execute_result"
    }
   ],
   "source": [
    "data[['work_days', 'age', 'gender']] = data['Количество больничных дней,\"Возраст\",\"Пол\"'].str.split(',', expand=True)\n",
    "\n",
    "data['work_days'] = data['work_days'].astype(int)\n",
    "data['age'] = data['age'].astype(int)\n",
    "data['gender'] = data['gender'].replace(['\"М\"','\"Ж\"'], ['m','f'])\n",
    "\n",
    "data.drop(['Количество больничных дней,\"Возраст\",\"Пол\"'], axis=1, inplace=True)\n",
    "\n",
    "data.head()"
   ]
  },
  {
   "cell_type": "markdown",
   "metadata": {},
   "source": [
    "## Data analysis"
   ]
  },
  {
   "cell_type": "code",
   "execution_count": 15,
   "metadata": {},
   "outputs": [
    {
     "name": "stdout",
     "output_type": "stream",
     "text": [
      "<class 'pandas.core.frame.DataFrame'>\n",
      "RangeIndex: 237 entries, 0 to 236\n",
      "Data columns (total 3 columns):\n",
      " #   Column     Non-Null Count  Dtype \n",
      "---  ------     --------------  ----- \n",
      " 0   work_days  237 non-null    int32 \n",
      " 1   age        237 non-null    int32 \n",
      " 2   gender     237 non-null    object\n",
      "dtypes: int32(2), object(1)\n",
      "memory usage: 3.8+ KB\n"
     ]
    }
   ],
   "source": [
    "data.info()"
   ]
  },
  {
   "cell_type": "code",
   "execution_count": 26,
   "metadata": {},
   "outputs": [
    {
     "data": {
      "text/plain": [
       "work_days    0\n",
       "age          0\n",
       "gender       0\n",
       "dtype: int64"
      ]
     },
     "execution_count": 26,
     "metadata": {},
     "output_type": "execute_result"
    }
   ],
   "source": [
    "data.isna().sum()"
   ]
  },
  {
   "cell_type": "markdown",
   "metadata": {},
   "source": [
    "#### Distribution"
   ]
  },
  {
   "cell_type": "code",
   "execution_count": 22,
   "metadata": {},
   "outputs": [
    {
     "data": {
      "text/html": [
       "<div>\n",
       "<style scoped>\n",
       "    .dataframe tbody tr th:only-of-type {\n",
       "        vertical-align: middle;\n",
       "    }\n",
       "\n",
       "    .dataframe tbody tr th {\n",
       "        vertical-align: top;\n",
       "    }\n",
       "\n",
       "    .dataframe thead th {\n",
       "        text-align: right;\n",
       "    }\n",
       "</style>\n",
       "<table border=\"1\" class=\"dataframe\">\n",
       "  <thead>\n",
       "    <tr style=\"text-align: right;\">\n",
       "      <th></th>\n",
       "      <th>work_days</th>\n",
       "      <th>age</th>\n",
       "    </tr>\n",
       "  </thead>\n",
       "  <tbody>\n",
       "    <tr>\n",
       "      <th>count</th>\n",
       "      <td>237.000000</td>\n",
       "      <td>237.000000</td>\n",
       "    </tr>\n",
       "    <tr>\n",
       "      <th>mean</th>\n",
       "      <td>3.257384</td>\n",
       "      <td>40.181435</td>\n",
       "    </tr>\n",
       "    <tr>\n",
       "      <th>std</th>\n",
       "      <td>1.807821</td>\n",
       "      <td>6.875157</td>\n",
       "    </tr>\n",
       "    <tr>\n",
       "      <th>min</th>\n",
       "      <td>0.000000</td>\n",
       "      <td>23.000000</td>\n",
       "    </tr>\n",
       "    <tr>\n",
       "      <th>25%</th>\n",
       "      <td>2.000000</td>\n",
       "      <td>36.000000</td>\n",
       "    </tr>\n",
       "    <tr>\n",
       "      <th>50%</th>\n",
       "      <td>3.000000</td>\n",
       "      <td>41.000000</td>\n",
       "    </tr>\n",
       "    <tr>\n",
       "      <th>75%</th>\n",
       "      <td>4.000000</td>\n",
       "      <td>45.000000</td>\n",
       "    </tr>\n",
       "    <tr>\n",
       "      <th>max</th>\n",
       "      <td>8.000000</td>\n",
       "      <td>60.000000</td>\n",
       "    </tr>\n",
       "  </tbody>\n",
       "</table>\n",
       "</div>"
      ],
      "text/plain": [
       "        work_days         age\n",
       "count  237.000000  237.000000\n",
       "mean     3.257384   40.181435\n",
       "std      1.807821    6.875157\n",
       "min      0.000000   23.000000\n",
       "25%      2.000000   36.000000\n",
       "50%      3.000000   41.000000\n",
       "75%      4.000000   45.000000\n",
       "max      8.000000   60.000000"
      ]
     },
     "execution_count": 22,
     "metadata": {},
     "output_type": "execute_result"
    }
   ],
   "source": [
    "data.describe()"
   ]
  },
  {
   "cell_type": "markdown",
   "metadata": {},
   "source": [
    "#### Gender"
   ]
  },
  {
   "cell_type": "code",
   "execution_count": 31,
   "metadata": {},
   "outputs": [
    {
     "data": {
      "text/plain": [
       "gender\n",
       "m    139\n",
       "f     98\n",
       "Name: count, dtype: int64"
      ]
     },
     "execution_count": 31,
     "metadata": {},
     "output_type": "execute_result"
    }
   ],
   "source": [
    "data.gender.value_counts()"
   ]
  },
  {
   "cell_type": "markdown",
   "metadata": {},
   "source": [
    "#### Age"
   ]
  },
  {
   "cell_type": "code",
   "execution_count": 47,
   "metadata": {},
   "outputs": [
    {
     "name": "stderr",
     "output_type": "stream",
     "text": [
      "No artists with labels found to put in legend.  Note that artists whose label start with an underscore are ignored when legend() is called with no argument.\n"
     ]
    },
    {
     "data": {
      "text/plain": [
       "<matplotlib.legend.Legend at 0x1fcf2716d90>"
      ]
     },
     "execution_count": 47,
     "metadata": {},
     "output_type": "execute_result"
    },
    {
     "data": {
      "image/png": "[encoded data removed]",
      "text/plain": [
       "<Figure size 640x480 with 1 Axes>"
      ]
     },
     "metadata": {},
     "output_type": "display_data"
    }
   ],
   "source": [
    "data.age.hist()"
   ]
  },
  {
   "cell_type": "code",
   "execution_count": 35,
   "metadata": {},
   "outputs": [
    {
     "data": {
      "text/plain": [
       "(191, 46)"
      ]
     },
     "execution_count": 35,
     "metadata": {},
     "output_type": "execute_result"
    }
   ],
   "source": [
    "data.age[data.age >= 35].count(), data.age[data.age < 35].count()"
   ]
  },
  {
   "cell_type": "markdown",
   "metadata": {},
   "source": [
    "Данные не сбалансированы. Мужчин почти в полтора раза больше чем женщин, сотрудников старше 35 лет почти в 4 раза больше остальных."
   ]
  },
  {
   "cell_type": "markdown",
   "metadata": {},
   "source": [
    "## Visualization"
   ]
  },
  {
   "cell_type": "code",
   "execution_count": 29,
   "metadata": {},
   "outputs": [
    {
     "data": {
      "image/png": "[encoded data removed]",
      "text/plain": [
       "<Figure size 1000x600 with 1 Axes>"
      ]
     },
     "metadata": {},
     "output_type": "display_data"
    }
   ],
   "source": [
    "# Distribution of sick days by gender\n",
    "plt.figure(figsize=(10, 6))\n",
    "data[data['gender'] == 'm']['work_days'].hist(alpha=0.5, label='Men', bins=8)\n",
    "data[data['gender'] == 'f']['work_days'].hist(alpha=0.5, label='Women', bins=8)\n",
    "plt.title('Distribution of Sick Days by Gender')\n",
    "plt.xlabel('Sick Days')\n",
    "plt.ylabel('Frequency')\n",
    "plt.legend()\n",
    "plt.show()"
   ]
  },
  {
   "cell_type": "markdown",
   "metadata": {},
   "source": [
    "Судя по графику, может показаться, что мужчины пропускают больше дней по больничным, чем женщины. Но в выборке мужчин больше, поэтому однозначно сказать нельзя"
   ]
  },
  {
   "cell_type": "code",
   "execution_count": 30,
   "metadata": {},
   "outputs": [
    {
     "data": {
      "image/png": "[encoded data removed]",
      "text/plain": [
       "<Figure size 1000x600 with 1 Axes>"
      ]
     },
     "metadata": {},
     "output_type": "display_data"
    }
   ],
   "source": [
    "# Distribution of sick days by age\n",
    "plt.figure(figsize=(10, 6))\n",
    "data[data['age'] >= 35]['work_days'].hist(alpha=0.5, label='Age 35+', bins=8)\n",
    "data[data['age'] < 35]['work_days'].hist(alpha=0.5, label='Age < 35', bins=8)\n",
    "plt.title('Distribution of Sick Days by Age')\n",
    "plt.xlabel('Sick Days')\n",
    "plt.ylabel('Frequency')\n",
    "plt.legend()\n",
    "plt.show()"
   ]
  },
  {
   "cell_type": "markdown",
   "metadata": {},
   "source": [
    "Аналогично, кажется, что люди старше 35 лет пропускают больше дней по больничным, чем молодые, но снова присутствует дисбаланс в выборке, поэтому однозначно сказать нельзя"
   ]
  },
  {
   "cell_type": "markdown",
   "metadata": {},
   "source": [
    "## Hypothesis testing"
   ]
  },
  {
   "cell_type": "markdown",
   "metadata": {},
   "source": [
    "Уровень значимости $ \\alpha = 0.05 $\n",
    "\n",
    "Статистический критерий: t-критерий Стьюдента для независимых выборок.\n",
    "\n",
    "t-критерий Стьюдента для независимых выборок или t-test позволяет проверить гипотезу о равенстве средних значений в двух независимых выборках, то есть ответить на вопрос, существует ли статистически значимая разница между выборками. \n",
    "\n",
    "Если p-value меньше уровня значимости, то нулевая гипотеза отвергается, то есть можно с определенной достоверностью считать, что между выборками есть статистически значимая разница.\n",
    "\n",
    "\n",
    "### Гипотеза 1\n",
    "\n",
    "H0: Мужчины пропускают в течение года более 2 рабочих дней (work_days) по болезни так же часто, как и женщины \n",
    "\n",
    "H1: Мужчины пропускают в течение года более 2 рабочих дней (work_days) по болезни значимо чаще женщин\n",
    "\n",
    "\n",
    "### Гипотеза 2\n",
    "\n",
    "H0: Работники старше 35 лет пропускают в течение года более 2 рабочих дней (work_days) по болезни так же часто, как и молодые\n",
    "\n",
    "H1: Работники старше 35 лет пропускают в течение года более 2 рабочих дней (work_days) по болезни значимо чаще молодых\n"
   ]
  },
  {
   "cell_type": "code",
   "execution_count": 46,
   "metadata": {},
   "outputs": [
    {
     "name": "stdout",
     "output_type": "stream",
     "text": [
      "Hypothesis 1 - Men vs Women:\n",
      " TtestResult(statistic=-0.800985603738584, pvalue=0.4239959914355369, df=222.10444348918975)\n",
      "Hypothesis 2 - Age 35+ vs Age < 35:\n",
      " TtestResult(statistic=-0.9416437678927063, pvalue=0.3496119728290893, df=70.03266410713353)\n"
     ]
    }
   ],
   "source": [
    "# Hypothesis 1\n",
    "data_men = data[data['gender'] == 'm']\n",
    "data_women = data[data['gender'] == 'f']\n",
    "ttest_result_gender = ttest_ind(data_men['work_days'], data_women['work_days'], equal_var=False)\n",
    "print('Hypothesis 1 - Men vs Women:\\n', ttest_result_gender)\n",
    "\n",
    "# Hypothesis 2\n",
    "data_older = data[data['age'] >= 35]\n",
    "data_younger = data[data['age'] < 35]\n",
    "ttest_result_age = ttest_ind(data_older['work_days'], data_younger['work_days'], equal_var=False)\n",
    "print('Hypothesis 2 - Age 35+ vs Age < 35:\\n', ttest_result_age)"
   ]
  },
  {
   "cell_type": "markdown",
   "metadata": {},
   "source": [
    "## Conclusion\n",
    "\n",
    "В обоих случаях p-value > 0.05, поэтому нулевые гипотезы не отвергаются, то есть можно считать, что между выборками нет статистически значимой разницы.\n",
    "\n",
    "Обе гипотезы не подтвердились"
   ]
  }
 ],
 "metadata": {
  "kernelspec": {
   "display_name": ".venv",
   "language": "python",
   "name": "python3"
  },
  "language_info": {
   "codemirror_mode": {
    "name": "ipython",
    "version": 3
   },
   "file_extension": ".py",
   "mimetype": "text/x-python",
   "name": "python",
   "nbconvert_exporter": "python",
   "pygments_lexer": "ipython3",
   "version": "3.11.5"
  },
  "polyglot_notebook": {
   "kernelInfo": {
    "defaultKernelName": "csharp",
    "items": [
     {
      "aliases": [],
      "name": "csharp"
     }
    ]
   }
  }
 },
 "nbformat": 4,
 "nbformat_minor": 2
}
